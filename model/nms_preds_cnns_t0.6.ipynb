{
 "cells": [
  {
   "cell_type": "code",
   "execution_count": null,
   "metadata": {},
   "outputs": [],
   "source": [
    "import numpy as np\n",
    "import pandas as pd\n",
    "from imutils.object_detection import non_max_suppression\n",
    "import matplotlib.pyplot as plt\n",
    "import matplotlib.patches as patches\n",
    "from PIL import Image"
   ]
  },
  {
   "cell_type": "code",
   "execution_count": null,
   "metadata": {},
   "outputs": [],
   "source": [
    "sub0 = pd.read_csv('cnn_lr0005_beta96_submission.csv')\n",
    "sub1 = pd.read_csv('cnn_lr0005_beta96_no_val_submission.csv')\n",
    "sub2 = pd.read_csv('cnn_lr00035_submission.csv')"
   ]
  },
  {
   "cell_type": "code",
   "execution_count": null,
   "metadata": {},
   "outputs": [],
   "source": [
    "def split_string(x):\n",
    "    if not pd.isna(x):\n",
    "        return x.split(' ')"
   ]
  },
  {
   "cell_type": "code",
   "execution_count": null,
   "metadata": {},
   "outputs": [],
   "source": [
    "def parse_scores(x):\n",
    "    if type(x) == list:\n",
    "        scores = [x[k] for k in range(0,len(x),5)]\n",
    "        for score in range(len(scores)):\n",
    "            scores[score] = float(scores[score])\n",
    "        return np.asarray(scores)"
   ]
  },
  {
   "cell_type": "code",
   "execution_count": null,
   "metadata": {},
   "outputs": [],
   "source": [
    "def parse_bbox(x):\n",
    "    if not type(x) == float:\n",
    "        bbox = [int(x[k]) for k in range(0,len(x)) if k%5 != 0]\n",
    "        # Add x and y to w and h to fit nms format\n",
    "        for n in range(2,len(bbox),4):\n",
    "            bbox[n] += bbox[n-2]\n",
    "            bbox[n+1] += bbox[n+1-2]\n",
    "        return np.asarray(bbox).reshape(int(len(bbox)/4),4)"
   ]
  },
  {
   "cell_type": "code",
   "execution_count": null,
   "metadata": {},
   "outputs": [],
   "source": [
    "def parse_predictions(df):\n",
    "    \n",
    "    df.loc[:, 'PredictionString'] = df.loc[:, 'PredictionString'].str.strip()\n",
    "    df.loc[:, 'PredictionString'] = df.loc[:, 'PredictionString'].map(split_string)\n",
    "    df = df.fillna(np.nan)\n",
    "    \n",
    "    df['bbox_scores'] = df.loc[:,'PredictionString'].map(parse_scores)\n",
    "    df = df.fillna(np.nan)\n",
    "    df['bbox_preds'] = df.loc[:,'PredictionString'].map(parse_bbox)\n",
    "    df = df.fillna(np.nan)\n",
    "\n",
    "    df.loc[df['bbox_scores'].isnull(),['bbox_scores']] = df.loc[df['bbox_scores'].isnull(),'bbox_scores'].apply(lambda x: np.asarray([]))\n",
    "    df.loc[df['bbox_preds'].isnull(),['bbox_preds']] = df.loc[df['bbox_preds'].isnull(),'bbox_preds'].apply(lambda x: np.asarray([]))\n",
    "\n",
    "    return df"
   ]
  },
  {
   "cell_type": "code",
   "execution_count": null,
   "metadata": {
    "scrolled": true
   },
   "outputs": [],
   "source": [
    "sub0.head(30)"
   ]
  },
  {
   "cell_type": "code",
   "execution_count": null,
   "metadata": {
    "scrolled": true
   },
   "outputs": [],
   "source": [
    "sub1.head(30)"
   ]
  },
  {
   "cell_type": "code",
   "execution_count": null,
   "metadata": {
    "scrolled": true
   },
   "outputs": [],
   "source": [
    "sub2.head(30)"
   ]
  },
  {
   "cell_type": "code",
   "execution_count": null,
   "metadata": {},
   "outputs": [],
   "source": [
    "sub0 = parse_predictions(sub0)\n",
    "sub1 = parse_predictions(sub1)\n",
    "sub2 = parse_predictions(sub2)"
   ]
  },
  {
   "cell_type": "code",
   "execution_count": null,
   "metadata": {
    "scrolled": true
   },
   "outputs": [],
   "source": [
    "sub0.head(20)"
   ]
  },
  {
   "cell_type": "code",
   "execution_count": null,
   "metadata": {
    "scrolled": true
   },
   "outputs": [],
   "source": [
    "sub1.head(20)"
   ]
  },
  {
   "cell_type": "code",
   "execution_count": null,
   "metadata": {
    "scrolled": true
   },
   "outputs": [],
   "source": [
    "sub2.head(20)"
   ]
  },
  {
   "cell_type": "code",
   "execution_count": null,
   "metadata": {},
   "outputs": [],
   "source": [
    "def check_scores(x):    \n",
    "    return x<0.6"
   ]
  },
  {
   "cell_type": "code",
   "execution_count": null,
   "metadata": {},
   "outputs": [],
   "source": [
    "def remove_under_threshold(df):\n",
    "    for row in range(len(df)):\n",
    "        if len(df['bbox_scores'].map(check_scores)[row]) != 0:\n",
    "            delete_list = [elem for elem in np.where(df['bbox_scores'].map(check_scores)[row] == True)[0]]\n",
    "            df.loc[row, 'bbox_scores'] = np.delete(df.loc[row, 'bbox_scores'], delete_list)\n",
    "            df.loc[row, 'bbox_preds'] = np.delete(df.loc[row, 'bbox_preds'], delete_list, 0)\n",
    "            \n",
    "    return df"
   ]
  },
  {
   "cell_type": "code",
   "execution_count": null,
   "metadata": {},
   "outputs": [],
   "source": [
    "sub0 = remove_under_threshold(sub0)\n",
    "sub1 = remove_under_threshold(sub1)\n",
    "sub2 = remove_under_threshold(sub2)"
   ]
  },
  {
   "cell_type": "code",
   "execution_count": null,
   "metadata": {},
   "outputs": [],
   "source": [
    "sub0.head(20)"
   ]
  },
  {
   "cell_type": "code",
   "execution_count": null,
   "metadata": {},
   "outputs": [],
   "source": [
    "sub1.head(20)"
   ]
  },
  {
   "cell_type": "code",
   "execution_count": null,
   "metadata": {},
   "outputs": [],
   "source": [
    "sub2.head(20)"
   ]
  },
  {
   "cell_type": "code",
   "execution_count": null,
   "metadata": {},
   "outputs": [],
   "source": [
    "def nms_3_fold(row, df1, df2, df3, t=0.3):\n",
    "    \n",
    "    df_list = [df1.loc[row, 'bbox_preds'],\n",
    "               df2.loc[row, 'bbox_preds'],\n",
    "               df3.loc[row, 'bbox_preds']\n",
    "               ]\n",
    "    \n",
    "    non_empty_df = [df for df in df_list if len(df) != 0]\n",
    "    \n",
    "    try:\n",
    "        a = np.concatenate((non_empty_df), axis=0)\n",
    "    except:\n",
    "        return np.asarray([], dtype = np.float64)\n",
    "    b = np.concatenate((df1.loc[row, 'bbox_scores'],\n",
    "                        df2.loc[row, 'bbox_scores'],\n",
    "                        df3.loc[row, 'bbox_scores'])\n",
    "                        , axis=0)\n",
    "    \n",
    "    return non_max_suppression(a, b, overlapThresh=t)"
   ]
  },
  {
   "cell_type": "code",
   "execution_count": null,
   "metadata": {},
   "outputs": [],
   "source": [
    "nms = [nms_3_fold(n,sub0,sub1,sub2,t=.1) for n in range(len(sub0))]"
   ]
  },
  {
   "cell_type": "code",
   "execution_count": null,
   "metadata": {},
   "outputs": [],
   "source": [
    "nms"
   ]
  },
  {
   "cell_type": "code",
   "execution_count": null,
   "metadata": {},
   "outputs": [],
   "source": [
    "def parse_nms(preds):\n",
    "    for x in preds:\n",
    "        if len(x) != 0:\n",
    "            for n in range(len(x)):\n",
    "                for t in range(2,len(x[n])):\n",
    "                    x[n][t] -= x[n][t-2]"
   ]
  },
  {
   "cell_type": "code",
   "execution_count": null,
   "metadata": {},
   "outputs": [],
   "source": [
    "parse_nms(nms)"
   ]
  },
  {
   "cell_type": "code",
   "execution_count": null,
   "metadata": {},
   "outputs": [],
   "source": [
    "nms"
   ]
  },
  {
   "cell_type": "markdown",
   "metadata": {},
   "source": [
    "Convert arrays to string and parse after getting bbox dimensions in correct format"
   ]
  },
  {
   "cell_type": "code",
   "execution_count": null,
   "metadata": {},
   "outputs": [],
   "source": [
    "def nms_to_string(nms):\n",
    "    nms_strings = [np.array2string(array, precision=2, separator=' ') for array in nms]\n",
    "    for x in range(len(nms_strings)):\n",
    "        if nms_strings[x] == '[]':\n",
    "            nms_strings[x] = np.nan\n",
    "        else:\n",
    "            nms_strings[x] = nms_strings[x].replace(']','').replace('[','').replace('\\n','').split(' ')\n",
    "            nms_strings[x] = [string for string in nms_strings[x] if string is not '']\n",
    "            print(nms_strings[x])\n",
    "            for n in range(0,(len(nms_strings[x]) + int(len(nms_strings[x])/4)),5):\n",
    "                nms_strings[x].insert(n, '0.99')\n",
    "            print(nms_strings[x])\n",
    "            nms_strings[x] = str(nms_strings[x]).replace(']','').replace('[','').replace(\"'\",'').replace(',','').replace('  ',' ')\n",
    "            print(nms_strings[x])\n",
    "            \n",
    "    return nms_strings"
   ]
  },
  {
   "cell_type": "code",
   "execution_count": null,
   "metadata": {
    "scrolled": true
   },
   "outputs": [],
   "source": [
    "nms_strings = nms_to_string(nms)"
   ]
  },
  {
   "cell_type": "code",
   "execution_count": null,
   "metadata": {},
   "outputs": [],
   "source": [
    "df = sub0[['patientId','PredictionString']].copy()"
   ]
  },
  {
   "cell_type": "code",
   "execution_count": null,
   "metadata": {},
   "outputs": [],
   "source": [
    "df['PredictionString'] = nms_strings"
   ]
  },
  {
   "cell_type": "code",
   "execution_count": null,
   "metadata": {
    "scrolled": true
   },
   "outputs": [],
   "source": [
    "df.head(30)"
   ]
  },
  {
   "cell_type": "code",
   "execution_count": null,
   "metadata": {},
   "outputs": [],
   "source": [
    "df.to_csv('nms_t0.6_submission.csv', index = False)"
   ]
  }
 ],
 "metadata": {
  "kernelspec": {
   "display_name": "Python 3",
   "language": "python",
   "name": "python3"
  },
  "language_info": {
   "codemirror_mode": {
    "name": "ipython",
    "version": 3
   },
   "file_extension": ".py",
   "mimetype": "text/x-python",
   "name": "python",
   "nbconvert_exporter": "python",
   "pygments_lexer": "ipython3",
   "version": "3.6.6"
  }
 },
 "nbformat": 4,
 "nbformat_minor": 2
}
